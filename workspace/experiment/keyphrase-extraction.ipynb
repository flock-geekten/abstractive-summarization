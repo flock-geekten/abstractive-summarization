{
 "cells": [
  {
   "cell_type": "markdown",
   "id": "8b80832b-8830-4cc3-9f4f-92d92e9e3ffd",
   "metadata": {},
   "source": [
    "# 抽出型文書要約"
   ]
  },
  {
   "cell_type": "markdown",
   "id": "d7371824-5c79-4a33-a5a5-87249066dce7",
   "metadata": {},
   "source": [
    "## 手続き"
   ]
  },
  {
   "cell_type": "markdown",
   "id": "f7cae0ae-8734-481b-b377-66e45949b7bd",
   "metadata": {},
   "source": [
    "1. 前準備\n",
    "1. クリーニング(文区切り，絵文字/記号などの削除)\n",
    "1. 文章の正規化(全角半角変換，数字の削除)\n",
    "1. 文章の単語分割(形態素解析)\n",
    "1. 単語の正規化(同じ意味を持つ単語の統一)\n",
    "1. ストップワードの除去(名詞/形容詞/副詞/動詞のみの利用，辞書による除去)\n",
    "1. 文書のベクトル表現(TF-IDF)\n",
    "1. 要約モデルの適用(LexRank)\n",
    "1. FlaskでAPIに"
   ]
  },
  {
   "cell_type": "markdown",
   "id": "ce1242f7-b485-4b78-bda2-14b25352d3f9",
   "metadata": {},
   "source": [
    "## 実装"
   ]
  },
  {
   "cell_type": "markdown",
   "id": "eb40e9f2-0fc1-4eba-9294-4ac26ee861a0",
   "metadata": {
    "tags": []
   },
   "source": [
    "### 1. 前準備"
   ]
  },
  {
   "cell_type": "code",
   "execution_count": 650,
   "id": "95ae98d0-7fa6-45f3-bc87-5434b4b82d56",
   "metadata": {},
   "outputs": [
    {
     "name": "stdout",
     "output_type": "stream",
     "text": [
      "The autoreload extension is already loaded. To reload it, use:\n",
      "  %reload_ext autoreload\n"
     ]
    }
   ],
   "source": [
    "%load_ext autoreload\n",
    "%autoreload 2\n",
    "\n",
    "import numpy as np\n",
    "import pandas as pd\n",
    "\n",
    "import neologdn\n",
    "\n",
    "# 文区切り\n",
    "import functools\n",
    "from ja_sentence_segmenter.common.pipeline import make_pipeline\n",
    "from ja_sentence_segmenter.concatenate.simple_concatenator import concatenate_matching\n",
    "from ja_sentence_segmenter.normalize.neologd_normalizer import normalize\n",
    "from ja_sentence_segmenter.split.simple_splitter import split_newline, split_punctuation\n",
    "\n",
    "# クリーニング\n",
    "import re\n",
    "from modules import data_cleaning_ks as dc\n",
    "\n",
    "# MeCab(形態素解析)\n",
    "import MeCab as mecab\n",
    "mecab = mecab.Tagger('-r /etc/mecabrc -d /usr/lib/x86_64-linux-gnu/mecab/dic/mecab-ipadic-neologd')\n",
    "\n",
    "# 単語の正規化\n",
    "#import emoji\n",
    "#import mojimoji\n",
    "\n",
    "# ストップワード除去\n",
    "# 名詞/形容詞/副詞/動詞のみを抽出できるライブラリのインポート\n",
    "import mecabpr\n",
    "mpr = mecabpr.MeCabPosRegex('-r /etc/mecabrc -d /usr/lib/x86_64-linux-gnu/mecab/dic/mecab-ipadic-neologd')\n",
    "\n",
    "# キーフレーズ抽出モデル(YAKE!)\n",
    "import yake\n",
    "from yake import KeywordExtractor"
   ]
  },
  {
   "cell_type": "markdown",
   "id": "8ab60f10-1932-4ad6-86d9-b4d76f212f9c",
   "metadata": {},
   "source": [
    "### 2. クリーニング"
   ]
  },
  {
   "cell_type": "code",
   "execution_count": 839,
   "id": "f87505b7-c32c-473f-8e21-36958c38fc6b",
   "metadata": {},
   "outputs": [],
   "source": [
    "split_punc2 = functools.partial(split_punctuation, punctuations=r\"。.!！?？\")\n",
    "concat_tail_te = functools.partial(concatenate_matching, former_matching_rule=r\"^(?P<result>.+)([\\r\\n]+)$\", remove_former_matched=False)\n",
    "segmenter = make_pipeline(normalize, split_newline, concat_tail_te, split_punc2)\n",
    "\n",
    "text_org = \"\"\"\n",
    "最近キーフレーズ抽出に興味がありいろいろと調べていたら、BERT版のキーフレーズ抽出パッケージがあったので試してみた。ちなみにキーフレーズ抽出とは、「文章からその主題を良く表現している句を抽出する技術」のこと。\n",
    "環境は、Docker for Mac を想定。\n",
    "DecktopにあるPreference -> Advance でMemoryの上限を調整する。KeyBERTをインストールするとPytorchをインストールしようとするが、Dockerのデフォルト設定のままだとメモリ不足でインストールに失敗する。なので、設定を変更してメモリ制限を解除する。今回は12Gに設定した。\"\"\""
   ]
  },
  {
   "cell_type": "code",
   "execution_count": 840,
   "id": "a8c8836d-7d30-4348-8f57-7a4bce10a9fa",
   "metadata": {},
   "outputs": [],
   "source": [
    "# 『楽しみ〜〜〜』の『〜〜〜』などを削除\n",
    "text = neologdn.normalize(text_org)"
   ]
  },
  {
   "cell_type": "code",
   "execution_count": 841,
   "id": "8d995d98-613b-44bd-be1b-f826231b643c",
   "metadata": {},
   "outputs": [
    {
     "data": {
      "text/html": [
       "<div>\n",
       "<style scoped>\n",
       "    .dataframe tbody tr th:only-of-type {\n",
       "        vertical-align: middle;\n",
       "    }\n",
       "\n",
       "    .dataframe tbody tr th {\n",
       "        vertical-align: top;\n",
       "    }\n",
       "\n",
       "    .dataframe thead th {\n",
       "        text-align: right;\n",
       "    }\n",
       "</style>\n",
       "<table border=\"1\" class=\"dataframe\">\n",
       "  <thead>\n",
       "    <tr style=\"text-align: right;\">\n",
       "      <th></th>\n",
       "      <th>0</th>\n",
       "    </tr>\n",
       "  </thead>\n",
       "  <tbody>\n",
       "    <tr>\n",
       "      <th>0</th>\n",
       "      <td>最近キーフレーズ抽出に興味がありいろいろと調べていたら、BERT版のキーフレーズ抽出パッケー...</td>\n",
       "    </tr>\n",
       "    <tr>\n",
       "      <th>1</th>\n",
       "      <td>ちなみにキーフレーズ抽出とは、「文章からその主題を良く表現している句を抽出する技術」のこと。</td>\n",
       "    </tr>\n",
       "    <tr>\n",
       "      <th>2</th>\n",
       "      <td>環境は、Docker for Macを想定。</td>\n",
       "    </tr>\n",
       "    <tr>\n",
       "      <th>3</th>\n",
       "      <td>DecktopにあるPreference-&gt;AdvanceでMemoryの上限を調整する。</td>\n",
       "    </tr>\n",
       "    <tr>\n",
       "      <th>4</th>\n",
       "      <td>KeyBERTをインストールするとPytorchをインストールしようとするが、Dockerの...</td>\n",
       "    </tr>\n",
       "    <tr>\n",
       "      <th>5</th>\n",
       "      <td>なので、設定を変更してメモリ制限を解除する。</td>\n",
       "    </tr>\n",
       "    <tr>\n",
       "      <th>6</th>\n",
       "      <td>今回は12Gに設定した。</td>\n",
       "    </tr>\n",
       "  </tbody>\n",
       "</table>\n",
       "</div>"
      ],
      "text/plain": [
       "                                                   0\n",
       "0  最近キーフレーズ抽出に興味がありいろいろと調べていたら、BERT版のキーフレーズ抽出パッケー...\n",
       "1     ちなみにキーフレーズ抽出とは、「文章からその主題を良く表現している句を抽出する技術」のこと。\n",
       "2                             環境は、Docker for Macを想定。\n",
       "3      DecktopにあるPreference->AdvanceでMemoryの上限を調整する。\n",
       "4  KeyBERTをインストールするとPytorchをインストールしようとするが、Dockerの...\n",
       "5                             なので、設定を変更してメモリ制限を解除する。\n",
       "6                                       今回は12Gに設定した。"
      ]
     },
     "execution_count": 841,
     "metadata": {},
     "output_type": "execute_result"
    }
   ],
   "source": [
    "sentences = list(segmenter(text))\n",
    "pd.DataFrame(sentences)"
   ]
  },
  {
   "cell_type": "markdown",
   "id": "f55c1d5c-1506-400c-9911-ceb40f78fe42",
   "metadata": {},
   "source": [
    "### 3. 文章の正規化"
   ]
  },
  {
   "cell_type": "code",
   "execution_count": 842,
   "id": "37b77ff7-fd34-4745-83da-15d80abc9e8c",
   "metadata": {},
   "outputs": [
    {
     "data": {
      "text/html": [
       "<div>\n",
       "<style scoped>\n",
       "    .dataframe tbody tr th:only-of-type {\n",
       "        vertical-align: middle;\n",
       "    }\n",
       "\n",
       "    .dataframe tbody tr th {\n",
       "        vertical-align: top;\n",
       "    }\n",
       "\n",
       "    .dataframe thead th {\n",
       "        text-align: right;\n",
       "    }\n",
       "</style>\n",
       "<table border=\"1\" class=\"dataframe\">\n",
       "  <thead>\n",
       "    <tr style=\"text-align: right;\">\n",
       "      <th></th>\n",
       "      <th>0</th>\n",
       "    </tr>\n",
       "  </thead>\n",
       "  <tbody>\n",
       "    <tr>\n",
       "      <th>0</th>\n",
       "      <td>最近キーフレーズ抽出に興味がありいろいろと調べていたらbert版のキーフレーズ抽出パッケージ...</td>\n",
       "    </tr>\n",
       "    <tr>\n",
       "      <th>1</th>\n",
       "      <td>ちなみにキーフレーズ抽出とは文章からその主題を良く表現している句を抽出する技術のこと</td>\n",
       "    </tr>\n",
       "    <tr>\n",
       "      <th>2</th>\n",
       "      <td>環境はdockerformacを想定</td>\n",
       "    </tr>\n",
       "    <tr>\n",
       "      <th>3</th>\n",
       "      <td>decktopにあるpreferenceadvanceでmemoryの上限を調整する</td>\n",
       "    </tr>\n",
       "    <tr>\n",
       "      <th>4</th>\n",
       "      <td>keybertをインストールするとpytorchをインストールしようとするがdockerのデ...</td>\n",
       "    </tr>\n",
       "    <tr>\n",
       "      <th>5</th>\n",
       "      <td>なので設定を変更してメモリ制限を解除する</td>\n",
       "    </tr>\n",
       "    <tr>\n",
       "      <th>6</th>\n",
       "      <td>今回は12gに設定した</td>\n",
       "    </tr>\n",
       "  </tbody>\n",
       "</table>\n",
       "</div>"
      ],
      "text/plain": [
       "                                                   0\n",
       "0  最近キーフレーズ抽出に興味がありいろいろと調べていたらbert版のキーフレーズ抽出パッケージ...\n",
       "1         ちなみにキーフレーズ抽出とは文章からその主題を良く表現している句を抽出する技術のこと\n",
       "2                                 環境はdockerformacを想定\n",
       "3         decktopにあるpreferenceadvanceでmemoryの上限を調整する\n",
       "4  keybertをインストールするとpytorchをインストールしようとするがdockerのデ...\n",
       "5                               なので設定を変更してメモリ制限を解除する\n",
       "6                                        今回は12gに設定した"
      ]
     },
     "execution_count": 842,
     "metadata": {},
     "output_type": "execute_result"
    }
   ],
   "source": [
    "sentences_dc = dc.data_cleaning(sentences)\n",
    "pd.DataFrame(sentences_dc)"
   ]
  },
  {
   "cell_type": "code",
   "execution_count": 843,
   "id": "ebf9c9d9-176e-4fe3-8f61-ba1538299b12",
   "metadata": {},
   "outputs": [
    {
     "name": "stdout",
     "output_type": "stream",
     "text": [
      "['キーフレーズ\\t名詞,固有名詞,一般,*,*,*,キーフレーズ,キーフレーズ,キーフレーズ', '抽出\\t名詞,サ変接続,*,*,*,*,抽出,チュウシュツ,チューシュツ', '興味\\t名詞,一般,*,*,*,*,興味,キョウミ,キョーミ', 'bert\\t名詞,一般,*,*,*,*,*', 'キーフレーズ\\t名詞,固有名詞,一般,*,*,*,キーフレーズ,キーフレーズ,キーフレーズ', '抽出\\t名詞,サ変接続,*,*,*,*,抽出,チュウシュツ,チューシュツ', 'パッケージ\\t名詞,一般,*,*,*,*,パッケージ,パッケージ,パッケージ']\n",
      "['キーフレーズ\\t名詞,固有名詞,一般,*,*,*,キーフレーズ,キーフレーズ,キーフレーズ', '抽出\\t名詞,サ変接続,*,*,*,*,抽出,チュウシュツ,チューシュツ', '文章\\t名詞,一般,*,*,*,*,文章,ブンショウ,ブンショー', '主題\\t名詞,一般,*,*,*,*,主題,シュダイ,シュダイ', '表現\\t名詞,サ変接続,*,*,*,*,表現,ヒョウゲン,ヒョーゲン', '句\\t名詞,一般,*,*,*,*,句,ク,ク', '抽出\\t名詞,サ変接続,*,*,*,*,抽出,チュウシュツ,チューシュツ', '技術\\t名詞,一般,*,*,*,*,技術,ギジュツ,ギジュツ']\n",
      "['環境\\t名詞,一般,*,*,*,*,環境,カンキョウ,カンキョー', 'dockerformac\\t名詞,一般,*,*,*,*,*', '想定\\t名詞,サ変接続,*,*,*,*,想定,ソウテイ,ソーテイ']\n",
      "['decktop\\t名詞,一般,*,*,*,*,*', 'preferenceadvance\\t名詞,一般,*,*,*,*,*', 'memory\\t名詞,一般,*,*,*,*,*', '上限\\t名詞,一般,*,*,*,*,上限,ジョウゲン,ジョーゲン', '調整\\t名詞,サ変接続,*,*,*,*,調整,チョウセイ,チョーセイ']\n",
      "['keybert\\t名詞,一般,*,*,*,*,*', 'インストール\\t名詞,一般,*,*,*,*,インストール,インストール,インストール', 'pytorch\\t名詞,一般,*,*,*,*,*', 'インストール\\t名詞,一般,*,*,*,*,インストール,インストール,インストール', 'しよう\\t名詞,一般,*,*,*,*,しよう,シヨウ,シヨー', 'docker\\t名詞,一般,*,*,*,*,*', 'デフォルト\\t名詞,一般,*,*,*,*,デフォルト,デフォルト,デフォルト', '設定\\t名詞,サ変接続,*,*,*,*,設定,セッテイ,セッテイ', 'メモリ\\t名詞,一般,*,*,*,*,メモリ,メモリ,メモリ', '不足\\t名詞,サ変接続,*,*,*,*,不足,フソク,フソク', 'インストール\\t名詞,一般,*,*,*,*,インストール,インストール,インストール', '失敗\\t名詞,サ変接続,*,*,*,*,失敗,シッパイ,シッパイ']\n",
      "['設定\\t名詞,サ変接続,*,*,*,*,設定,セッテイ,セッテイ', '変更\\t名詞,サ変接続,*,*,*,*,変更,ヘンコウ,ヘンコー', 'メモリ\\t名詞,一般,*,*,*,*,メモリ,メモリ,メモリ', '制限\\t名詞,サ変接続,*,*,*,*,制限,セイゲン,セイゲン', '解除\\t名詞,サ変接続,*,*,*,*,解除,カイジョ,カイジョ']\n",
      "['12g\\t名詞,固有名詞,一般,*,*,*,12g,ジュウニグラム,ジュウニグラム', '設定\\t名詞,サ変接続,*,*,*,*,設定,セッテイ,セッテイ']\n"
     ]
    }
   ],
   "source": [
    "sentence_words = []\n",
    "result = []\n",
    "for i, sentence in enumerate(sentences_dc):\n",
    "    # 名詞|形容詞|副詞|動詞のみの抽出\n",
    "    ma = sum(mpr.findall(sentence, \"(名詞-固有名詞|名詞-一般|名詞-サ変接続|名詞-形容動詞語幹)\", raw=True), [])\n",
    "    print(ma)\n",
    "    # 活用形の統一(基本形へ)\n",
    "    sentence_ma = []\n",
    "    for word in ma:\n",
    "        if word.split(',')[6] == \"*\":\n",
    "            sentence_ma.append(word.split('\\t')[0])\n",
    "        else:\n",
    "            sentence_ma.append(word.split(',')[6])\n",
    "    result.append(sentence_ma)"
   ]
  },
  {
   "cell_type": "code",
   "execution_count": 844,
   "id": "077fbe6e-1e2a-45a8-a87d-ee059e98fd9d",
   "metadata": {},
   "outputs": [
    {
     "data": {
      "text/plain": [
       "[['キーフレーズ', '抽出', '興味', 'bert', 'キーフレーズ', '抽出', 'パッケージ'],\n",
       " ['キーフレーズ', '抽出', '文章', '主題', '表現', '句', '抽出', '技術'],\n",
       " ['環境', 'dockerformac', '想定'],\n",
       " ['decktop', 'preferenceadvance', 'memory', '上限', '調整'],\n",
       " ['keybert',\n",
       "  'インストール',\n",
       "  'pytorch',\n",
       "  'インストール',\n",
       "  'しよう',\n",
       "  'docker',\n",
       "  'デフォルト',\n",
       "  '設定',\n",
       "  'メモリ',\n",
       "  '不足',\n",
       "  'インストール',\n",
       "  '失敗'],\n",
       " ['設定', '変更', 'メモリ', '制限', '解除'],\n",
       " ['12g', '設定']]"
      ]
     },
     "execution_count": 844,
     "metadata": {},
     "output_type": "execute_result"
    }
   ],
   "source": [
    "result"
   ]
  },
  {
   "cell_type": "code",
   "execution_count": 845,
   "id": "d051d647-48a5-4682-ae4c-9fb61328b9de",
   "metadata": {},
   "outputs": [],
   "source": [
    "for i, sentence in enumerate(result):\n",
    "    for j, word in  enumerate(sentence):\n",
    "        if \"ー\" in word:\n",
    "            result[i][j] = word.replace(\"ー\",\"-\")\n",
    "        if re.search(r'\\d', word):\n",
    "            result[i][j] = \"\""
   ]
  },
  {
   "cell_type": "code",
   "execution_count": 846,
   "id": "732cd453-07da-4789-867b-ec9d30ba9cf4",
   "metadata": {},
   "outputs": [
    {
     "data": {
      "text/plain": [
       "[['キ-フレ-ズ', '抽出', '興味', 'bert', 'キ-フレ-ズ', '抽出', 'パッケ-ジ'],\n",
       " ['キ-フレ-ズ', '抽出', '文章', '主題', '表現', '句', '抽出', '技術'],\n",
       " ['環境', 'dockerformac', '想定'],\n",
       " ['decktop', 'preferenceadvance', 'memory', '上限', '調整'],\n",
       " ['keybert',\n",
       "  'インスト-ル',\n",
       "  'pytorch',\n",
       "  'インスト-ル',\n",
       "  'しよう',\n",
       "  'docker',\n",
       "  'デフォルト',\n",
       "  '設定',\n",
       "  'メモリ',\n",
       "  '不足',\n",
       "  'インスト-ル',\n",
       "  '失敗'],\n",
       " ['設定', '変更', 'メモリ', '制限', '解除'],\n",
       " ['', '設定']]"
      ]
     },
     "execution_count": 846,
     "metadata": {},
     "output_type": "execute_result"
    }
   ],
   "source": [
    "result"
   ]
  },
  {
   "cell_type": "code",
   "execution_count": 847,
   "id": "5bf0fbdd-e408-47c0-b140-aa0d334c3e2c",
   "metadata": {},
   "outputs": [
    {
     "data": {
      "text/plain": [
       "'キ-フレ-ズ 抽出 興味 bert キ-フレ-ズ 抽出 パッケ-ジ. キ-フレ-ズ 抽出 文章 主題 表現 句 抽出 技術. 環境 dockerformac 想定. decktop preferenceadvance memory 上限 調整. keybert インスト-ル pytorch インスト-ル しよう docker デフォルト 設定 メモリ 不足 インスト-ル 失敗. 設定 変更 メモリ 制限 解除.  設定. '"
      ]
     },
     "execution_count": 847,
     "metadata": {},
     "output_type": "execute_result"
    }
   ],
   "source": [
    "corpus = [' '.join(sentence) + u'. ' for sentence in result]\n",
    "\"\".join(corpus)"
   ]
  },
  {
   "cell_type": "code",
   "execution_count": 848,
   "id": "63d0e3a4-db80-46a5-9697-0f7903d23cb3",
   "metadata": {},
   "outputs": [
    {
     "data": {
      "text/plain": [
       "['キ-フレ-ズ 抽出 興味 bert キ-フレ-ズ 抽出 パッケ-ジ. ',\n",
       " 'キ-フレ-ズ 抽出 文章 主題 表現 句 抽出 技術. ',\n",
       " '環境 dockerformac 想定. ',\n",
       " 'decktop preferenceadvance memory 上限 調整. ',\n",
       " 'keybert インスト-ル pytorch インスト-ル しよう docker デフォルト 設定 メモリ 不足 インスト-ル 失敗. ',\n",
       " '設定 変更 メモリ 制限 解除. ',\n",
       " ' 設定. ']"
      ]
     },
     "execution_count": 848,
     "metadata": {},
     "output_type": "execute_result"
    }
   ],
   "source": [
    "corpus"
   ]
  },
  {
   "cell_type": "markdown",
   "id": "dd68712f-a8fa-4c19-b1ad-75207ae20fe6",
   "metadata": {},
   "source": [
    "### 7.キーフレーズ抽出(YAKE!)の適用"
   ]
  },
  {
   "cell_type": "code",
   "execution_count": 849,
   "id": "4e24a460-e496-41c2-b85b-26a69296ad7e",
   "metadata": {},
   "outputs": [
    {
     "data": {
      "text/plain": [
       "array(['bert', 'パッケ-ジ', 'インスト-ル', 'メモリ', 'decktop', 'dockerformac',\n",
       "       'preferenceadvance', 'memory', 'pytorch', 'しよう'], dtype='<U19')"
      ]
     },
     "execution_count": 849,
     "metadata": {},
     "output_type": "execute_result"
    }
   ],
   "source": [
    "language = \"ja\"\n",
    "max_ngram_size = 1\n",
    "deduplication_thresold = 0.5\n",
    "numOfKeywords = 10\n",
    "\n",
    "custom_kw_extractor = yake.KeywordExtractor(lan=language, n=max_ngram_size, dedupLim=deduplication_thresold, top=numOfKeywords, features=None)\n",
    "keywords = custom_kw_extractor.extract_keywords(\"\".join(corpus))\n",
    "keywords = np.array(keywords)[:,0]\n",
    "keywords"
   ]
  },
  {
   "cell_type": "code",
   "execution_count": 850,
   "id": "2d4c09de-87af-432c-bce5-cae67145d1c1",
   "metadata": {},
   "outputs": [],
   "source": [
    "for i, word in enumerate(keywords):\n",
    "    if \"-\" in word:\n",
    "        keywords[i] = word.replace(\"-\",\"ー\")"
   ]
  },
  {
   "cell_type": "code",
   "execution_count": 851,
   "id": "da80d530-70cf-450c-8768-ddfd911ee202",
   "metadata": {},
   "outputs": [
    {
     "data": {
      "text/plain": [
       "array(['bert', 'パッケージ', 'インストール', 'メモリ', 'decktop', 'dockerformac',\n",
       "       'preferenceadvance', 'memory', 'pytorch', 'しよう'], dtype='<U19')"
      ]
     },
     "execution_count": 851,
     "metadata": {},
     "output_type": "execute_result"
    }
   ],
   "source": [
    "keywords"
   ]
  },
  {
   "cell_type": "markdown",
   "id": "98c14079-fb49-4578-9f36-50a966cf9911",
   "metadata": {},
   "source": [
    "### 8. モジュールの動作確認"
   ]
  },
  {
   "cell_type": "code",
   "execution_count": 714,
   "id": "f3409c0f-a7ee-4382-8d4b-128f38ac2ea3",
   "metadata": {},
   "outputs": [
    {
     "name": "stdout",
     "output_type": "stream",
     "text": [
      "The autoreload extension is already loaded. To reload it, use:\n",
      "  %reload_ext autoreload\n"
     ]
    },
    {
     "ename": "ImportError",
     "evalue": "cannot import name 'extractive_summarization'",
     "output_type": "error",
     "traceback": [
      "\u001b[0;31m---------------------------------------------------------------------------\u001b[0m",
      "\u001b[0;31mImportError\u001b[0m                               Traceback (most recent call last)",
      "\u001b[0;32m<ipython-input-714-cfab4aad7d7f>\u001b[0m in \u001b[0;36m<module>\u001b[0;34m\u001b[0m\n\u001b[1;32m      1\u001b[0m \u001b[0mget_ipython\u001b[0m\u001b[0;34m(\u001b[0m\u001b[0;34m)\u001b[0m\u001b[0;34m.\u001b[0m\u001b[0mrun_line_magic\u001b[0m\u001b[0;34m(\u001b[0m\u001b[0;34m'load_ext'\u001b[0m\u001b[0;34m,\u001b[0m \u001b[0;34m'autoreload'\u001b[0m\u001b[0;34m)\u001b[0m\u001b[0;34m\u001b[0m\u001b[0;34m\u001b[0m\u001b[0m\n\u001b[1;32m      2\u001b[0m \u001b[0mget_ipython\u001b[0m\u001b[0;34m(\u001b[0m\u001b[0;34m)\u001b[0m\u001b[0;34m.\u001b[0m\u001b[0mrun_line_magic\u001b[0m\u001b[0;34m(\u001b[0m\u001b[0;34m'autoreload'\u001b[0m\u001b[0;34m,\u001b[0m \u001b[0;34m'2'\u001b[0m\u001b[0;34m)\u001b[0m\u001b[0;34m\u001b[0m\u001b[0;34m\u001b[0m\u001b[0m\n\u001b[0;32m----> 3\u001b[0;31m \u001b[0;32mfrom\u001b[0m \u001b[0mmodules\u001b[0m \u001b[0;32mimport\u001b[0m \u001b[0mextractive_summarization\u001b[0m \u001b[0;32mas\u001b[0m \u001b[0mes\u001b[0m\u001b[0;34m\u001b[0m\u001b[0;34m\u001b[0m\u001b[0m\n\u001b[0m",
      "\u001b[0;31mImportError\u001b[0m: cannot import name 'extractive_summarization'"
     ]
    }
   ],
   "source": [
    "%load_ext autoreload\n",
    "%autoreload 2\n",
    "from modules import extractive_summarization as es"
   ]
  },
  {
   "cell_type": "code",
   "execution_count": 637,
   "id": "36ed4b29-939e-45c2-a2f1-5e5b42050985",
   "metadata": {},
   "outputs": [],
   "source": [
    "text = \"\"\"\n",
    "長岡は美味しいラーメン屋がたくさんある．\n",
    "その中でも特に美味しい(と個人的に思う)ラーメン屋を紹介したいと思う．\n",
    "それは…「おこじょ」である．\n",
    "ここは，限定ラーメンを月1ペースで出しており，何度行っても新しい味が楽しめるラーメン屋である．\n",
    "現在(2021/9)は，うなぎハモラーメンを提供している．\n",
    "これは，スープが泡立っているため，大変軽い舌触りであり，味もクリーミーに仕上がっている．\n",
    "トッピングのハモは，ナスと一緒に食べることが推奨されており，ふわふわかつジューシーな味わいが楽しめる．\n",
    "お値段は1,500円と少し高めだが，値段分の価値は十分だと考えている．\n",
    "皆さんも機会があればぜひ食べてもらいたい．\n",
    "\"\"\""
   ]
  },
  {
   "cell_type": "code",
   "execution_count": 36,
   "id": "0e0e8332-8405-4e22-a7fb-0267000cca1b",
   "metadata": {},
   "outputs": [],
   "source": [
    "summary = es.preprocessed_lexrank(text, sum_count=3)"
   ]
  },
  {
   "cell_type": "code",
   "execution_count": 37,
   "id": "d819d1cf-7389-43d9-ae44-7d3050be9b22",
   "metadata": {},
   "outputs": [
    {
     "name": "stdout",
     "output_type": "stream",
     "text": [
      "長岡は美味しいラーメン屋がたくさんある。\n",
      "それは…「おこじょ」である。\n",
      "ここは,限定ラーメンを月1ペースで出しており,何度行っても新しい味が楽しめるラーメン屋である。\n",
      "\n"
     ]
    }
   ],
   "source": [
    "print(summary)"
   ]
  },
  {
   "cell_type": "code",
   "execution_count": null,
   "id": "8ee2d856-cce9-4927-b0e8-0cf4932a5aae",
   "metadata": {},
   "outputs": [],
   "source": []
  }
 ],
 "metadata": {
  "kernelspec": {
   "display_name": "Python 3",
   "language": "python",
   "name": "python3"
  },
  "language_info": {
   "codemirror_mode": {
    "name": "ipython",
    "version": 3
   },
   "file_extension": ".py",
   "mimetype": "text/x-python",
   "name": "python",
   "nbconvert_exporter": "python",
   "pygments_lexer": "ipython3",
   "version": "3.6.9"
  }
 },
 "nbformat": 4,
 "nbformat_minor": 5
}
